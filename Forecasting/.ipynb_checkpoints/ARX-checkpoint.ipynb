{
 "cells": [
  {
   "cell_type": "code",
   "execution_count": null,
   "id": "6f6d8a45",
   "metadata": {},
   "outputs": [],
   "source": [
    "import pandas as pd\n",
    "import numpy as np\n",
    "import warnings\n",
    "from pmdarima.arima import auto_arima\n",
    "import matplotlib.pyplot as plt\n",
    "\n",
    "warnings.simplefilter(\"ignore\")\n",
    "\n",
    "filename = input(\"Filename: \")\n",
    "data = pd.read_csv(filename)\n",
    "params = []\n",
    "\n",
    "for i in range(0,int(len(data)/24),9):\n",
    "    d_ =  data[i*24:24*(i+9)]\n",
    "\n",
    "    d = d_[24:24*(i+9)]\n",
    "    exogenous_train = pd.DataFrame(d_[0:48])\n",
    "    train_temp = exogenous_train['Temp_Box'] - np.mean(exogenous_train['Temp_Box']) \n",
    "    exogenous_temp = np.concatenate((np.linspace(0,48-1,num=48,dtype = np.uint8).reshape(-1,1),\n",
    "                                     np.array(train_temp).reshape(-1,1)),axis = 1).reshape(48,-1)\n",
    "    model = auto_arima(d_[0:48]['Temp'] - np.mean(d_[0:48]['Temp']), X = exogenous_temp, start_p = 1, max_p = 1, start_q = 0, \n",
    "                       max_q = 0, max_P = 2, start_Q = 0, max_Q = 0, seasonal = True)\n",
    "\n",
    "    model.fit(d_[0:48]['Temp']- np.mean(d_[0:48]['Temp']), X = exogenous_temp)\n",
    "    exogenous_train = pd.DataFrame(d)\n",
    "    test_temp = exogenous_train['Temp_Box'] - np.mean(exogenous_train['Temp_Box']) \n",
    "\n",
    "    exogenous_temp = np.concatenate((np.linspace(0,24*7-1,num=24*7,dtype = np.uint8).reshape(-1,1),\n",
    "                                     np.array(test_temp).reshape(-1,1)),axis = 1).reshape(24*7,-1)\n",
    "    forecast = model.predict(24*7, X = exogenous_temp)\n",
    "    for a in d_[0:48]['Temp']:\n",
    "        print(a)\n",
    "    for a in range(len(forecast)):\n",
    "        print(forecast.values[a] + np.mean(d_[0:24]['Temp']))"
   ]
  }
 ],
 "metadata": {
  "kernelspec": {
   "display_name": "Python 3 (ipykernel)",
   "language": "python",
   "name": "python3"
  },
  "language_info": {
   "codemirror_mode": {
    "name": "ipython",
    "version": 3
   },
   "file_extension": ".py",
   "mimetype": "text/x-python",
   "name": "python",
   "nbconvert_exporter": "python",
   "pygments_lexer": "ipython3",
   "version": "3.10.9"
  }
 },
 "nbformat": 4,
 "nbformat_minor": 5
}
