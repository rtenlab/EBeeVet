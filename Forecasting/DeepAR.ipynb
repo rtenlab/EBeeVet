{
 "cells": [
  {
   "cell_type": "code",
   "execution_count": null,
   "id": "a3b61ef5",
   "metadata": {},
   "outputs": [],
   "source": [
    "import pandas as pd\n",
    "from autogluon.timeseries import TimeSeriesDataFrame, TimeSeriesPredictor\n",
    "import numpy as np\n",
    "import autogluon.core as ag\n",
    "filename = input(\"Filename: \")\n",
    "train_data = pd.read_csv('filename')\n",
    "a = 1\n",
    "train_data['item_id'] = 0\n",
    "for i in range(0,len(train_data),10*24):\n",
    "    train_data['item_id'][i:i+10*24] = a*np.ones((10*24))\n",
    "    a = a+1"
   ]
  },
  {
   "cell_type": "code",
   "execution_count": null,
   "id": "17cae07f",
   "metadata": {},
   "outputs": [],
   "source": [
    "train_data_partial_per_item = []\n",
    "for item_id in train_data.item_ids:\n",
    "    timestamps = train_data.loc[item_id][:48].index.get_level_values(\"timestamp\")\n",
    "    index = pd.MultiIndex.from_product([[item_id], timestamps], names=[\"item_id\", \"timestamp\"])\n",
    "    train_data_partial_per_item.append(pd.DataFrame(train_data.loc[item_id][:48].values, index = index, columns = [\"Temp_Box\", \"Temp\"]))\n",
    "train_data_partial = TimeSeriesDataFrame(pd.concat(train_data_partial_per_item))"
   ]
  },
  {
   "cell_type": "code",
   "execution_count": null,
   "id": "c5a63260",
   "metadata": {},
   "outputs": [],
   "source": [
    "while len(train_data_partial) < len(train_data):\n",
    "    if len(train_data_partial.loc[1]) < 49:\n",
    "        pred_len = 1\n",
    "    elif len(train_data_partial.loc[1]) >= 49 and len(train_data_partial.loc[1]) < 72:\n",
    "        pred_len = 23\n",
    "    elif len(train_data_partial.loc[1]) == 72:\n",
    "        pred_len =  24\n",
    "\n",
    "    predictor = TimeSeriesPredictor(\n",
    "        prediction_length= pred_len,\n",
    "        target=\"Temp\",\n",
    "        known_covariates_names=[\"Temp_Box\"],\n",
    "        eval_metric=\"RMSE\",\n",
    "        ignore_time_index = True\n",
    "    ).fit(train_data_partial,\n",
    "            #hyperparameters = {\"DeepAR\" : {\"hidden_size\": ag.space.Int(20, 100),}},\n",
    "            #hyperparameter_tune_kwargs=\"auto\",\n",
    "            hyperparameters = {\"DeepAR\" : {}})\n",
    "\n",
    "    known_covariates_per_item = []\n",
    "    for item_id in train_data.item_ids:\n",
    "        future_timestamps = train_data.loc[item_id][len(train_data_partial.loc[1]): len(train_data_partial.loc[1])+pred_len].index.get_level_values(\"timestamp\")\n",
    "        index = pd.MultiIndex.from_product([[item_id], future_timestamps], names=[\"item_id\", \"timestamp\"])\n",
    "        known_covariates_per_item.append(pd.DataFrame(train_data[\"Temp_Box\"].values[len(train_data_partial.loc[1]): len(train_data_partial.loc[1])+pred_len], index=index, columns=[\"Temp_Box\"]))\n",
    "    known_covariates = TimeSeriesDataFrame(pd.concat(known_covariates_per_item))\n",
    "    predict_data = predictor.predict(train_data_partial, known_covariates = known_covariates)\n",
    "    new_train_data_per_item = []\n",
    "    for item_id in train_data.item_ids:\n",
    "        future_timestamps = train_data.loc[item_id][len(train_data_partial.loc[1]): len(train_data_partial.loc[1])+pred_len].index.get_level_values(\"timestamp\")\n",
    "        index = pd.MultiIndex.from_product([[item_id], future_timestamps], names=[\"item_id\", \"timestamp\"])\n",
    "        together = pd.concat([pd.DataFrame(train_data.loc[item_id][\"Temp_Box\"].values[len(train_data_partial.loc[1]): len(train_data_partial.loc[1])+pred_len], columns = [\"Temp_Box\"]), pd.DataFrame(predict_data.loc[item_id]['mean'].values, columns = [\"Temp\"])], axis = 1)\n",
    "        together = pd.concat([train_data_partial[(item_id-1)*len(train_data_partial.loc[1]) : (item_id)*len(train_data_partial.loc[1])],together.set_index(index)], axis = 0)\n",
    "\n",
    "        new_train_data_per_item.append(together)\n",
    "\n",
    "    train_data_partial = TimeSeriesDataFrame(pd.concat(new_train_data_per_item))\n",
    "train_data_partial"
   ]
  }
 ],
 "metadata": {
  "kernelspec": {
   "display_name": "Python 3 (ipykernel)",
   "language": "python",
   "name": "python3"
  },
  "language_info": {
   "codemirror_mode": {
    "name": "ipython",
    "version": 3
   },
   "file_extension": ".py",
   "mimetype": "text/x-python",
   "name": "python",
   "nbconvert_exporter": "python",
   "pygments_lexer": "ipython3",
   "version": "3.10.9"
  }
 },
 "nbformat": 4,
 "nbformat_minor": 5
}
