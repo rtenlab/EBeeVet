{
 "cells": [
  {
   "cell_type": "code",
   "execution_count": null,
   "id": "91cf0a70",
   "metadata": {},
   "outputs": [],
   "source": [
    "# holt winters -> exponential smoothing\n",
    "#no trend, additive seasonality\n",
    "from statsmodels.tsa.holtwinters import ExponentialSmoothing # double and triple exponential smoothing\n",
    "import pandas as pd\n",
    "import numpy as np\n",
    "import warnings\n",
    "\n",
    "warnings.simplefilter(\"ignore\")\n",
    "\n",
    "data = pd.read_csv('C:/Bee Temp Data/three input - 294.csv')\n",
    "\n",
    "input_cycle = 3 #how manys days to be used as input?\n",
    "output_cycle = 7 #how manys days to be forecasted ahead?\n",
    "daily_data_points = 24 #data points per day\n",
    "for i in range(0,int(len(data)/daily_data_points),input_cycle+output_cycle):\n",
    "    d_ =  data[(i:(i+input_cycle+output_cycle))*daily_data_points]\n",
    "    data = d[0:input_cycle*daily_data_points]['Temp']\n",
    "    for b in range(output_cycle):\n",
    "        model = ExponentialSmoothing(data,\n",
    "                                     #trend='add',\n",
    "                                     seasonal='add',seasonal_periods=daily_data_points, initialization_method=\"estimated\").fit(optimized = True)\n",
    "        forecast = model.forecast(daily_data_points)\n",
    "        #Recursive Forecasting\n",
    "        data= np.concatenate((data,forecast))  \n",
    "    for a in data[input_cycle*daily_data_points:]:\n",
    "        print(a)"
   ]
  },
  {
   "cell_type": "code",
   "execution_count": null,
   "id": "7c95d863",
   "metadata": {},
   "outputs": [],
   "source": []
  }
 ],
 "metadata": {
  "kernelspec": {
   "display_name": "Python 3 (ipykernel)",
   "language": "python",
   "name": "python3"
  },
  "language_info": {
   "codemirror_mode": {
    "name": "ipython",
    "version": 3
   },
   "file_extension": ".py",
   "mimetype": "text/x-python",
   "name": "python",
   "nbconvert_exporter": "python",
   "pygments_lexer": "ipython3",
   "version": "3.10.9"
  }
 },
 "nbformat": 4,
 "nbformat_minor": 5
}
