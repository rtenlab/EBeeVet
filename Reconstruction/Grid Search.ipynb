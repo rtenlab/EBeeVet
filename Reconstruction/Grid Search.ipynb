{
 "cells": [
  {
   "cell_type": "code",
   "execution_count": null,
   "id": "604d80fa",
   "metadata": {},
   "outputs": [],
   "source": [
    "import pandas as pd\n",
    "import warnings\n",
    "from itertools import product\n",
    "import numpy as np\n",
    "import matplotlib.pyplot as plt\n",
    "import scipy.integrate as scint\n",
    "import sys\n",
    "import time\n",
    "warnings.filterwarnings(\"ignore\")"
   ]
  },
  {
   "cell_type": "code",
   "execution_count": null,
   "id": "72ea8605",
   "metadata": {},
   "outputs": [],
   "source": [
    "def run_bee_eq(x, ext_temp, truth, peri, treat):\n",
    "    def bee_eq(y, t, w1, w2, external_temperature, truth, peri, treat):\n",
    "        hive_temperature = y\n",
    "        u1 = [0]*len(hive_temperature)\n",
    "        u2 = [0]*len(hive_temperature)\n",
    "        for i in range(len(hive_temperature)):\n",
    "            if external_temperature[i] >= 0:\n",
    "                u1[i] = 1\n",
    "            else:\n",
    "                u2[i] = -1\n",
    "        #external_temperature =  amplitude_temp_ext* np.sin(om*t + phase)  \n",
    "        if treat == 0:\n",
    "            dydt = -w1*hive_temperature*u1 + w2*hive_temperature*u2 + 2*(-hive_temperature + external_temperature)\n",
    "        else:\n",
    "            dydt = -w1*hive_temperature*u1 + w2*hive_temperature*u2 + 2*(-hive_temperature) + peri + external_temperature\n",
    "        return dydt\n",
    "\n",
    "    t_max = len(ext_temp)-1\n",
    "    t = np.linspace(0,t_max, num = t_max+1)\n",
    "    errors = []\n",
    "    params = []\n",
    "    signals = []\n",
    "    w1 = np.linspace(0,100, num = 101)\n",
    "    w2 = np.linspace(0,100, num = 101)\n",
    "    yy_param = np.linspace(31,38,num=8)\n",
    "    a = 10*np.ones(len(ext_temp))\n",
    "    for i in w1:\n",
    "        for j in w2:\n",
    "            for k in yy_param:\n",
    "                truth_ = truth - k\n",
    "                ext_temp_ = ext_temp - k\n",
    "                peri_ = peri - k\n",
    "                sol = scint.odeint(bee_eq, a, t, args=(i,j, ext_temp_, truth_, peri_, treat), col_deriv = True, rtol = 1e-3, atol = 1e-3) # 'w' and 'amplitude_temp_ext'\n",
    "                theta_t = sol[-1,:]\n",
    "                errors.append(mean_absolute_error(truth_, theta_t))\n",
    "                params.append([i,j,k,(truth_ - theta_t),theta_t])\n",
    "                signals.append(theta_t)\n",
    "\n",
    "    if errors == []:\n",
    "        return [], [], []\n",
    "    error_arg = np.argmin(errors)\n",
    "    error_min = errors[error_arg]\n",
    "    sig_min = signals[error_arg]\n",
    "    param_min = params[error_arg]\n",
    "    return error_min, param_min, sig_min"
   ]
  },
  {
   "cell_type": "code",
   "execution_count": null,
   "id": "44f0e8e0",
   "metadata": {},
   "outputs": [],
   "source": [
    "def main(*argv):\n",
    "    filename = argv[0]\n",
    "    temp_data = argv[1]\n",
    "    ext_data = argv[2]\n",
    "    peri_data = argv[3]\n",
    "    type_ = argv[4]\n",
    "    \n",
    "    data = pd.read_csv(filename)\n",
    "    d = pd.DataFrame(data).groupby(data['Date'])\n",
    "    \n",
    "    time_ = []\n",
    "    start = time.time()\n",
    "    w_, e_, sig_ = [], [], []\n",
    "    for i,j in d:\n",
    "        x = np.linspace(0, len(j[temp_data].values)-1, num = len(j[temp_data]))\n",
    "        j.reset_index()\n",
    "        print(j['Date'].values[0])\n",
    "        xx =j[ext_data].values\n",
    "        yy = j[temp_data].values\n",
    "        if type_ == 'Y':\n",
    "            zz = j[peri_data].values\n",
    "            treat = j['Treatment'].values[0]\n",
    "        else:\n",
    "            zz = j[temp_data].values\n",
    "            treat = 0\n",
    "        err, w, sig = run_bee_eq(x, xx , yy, zz, treat)\n",
    "        w_.append(w)\n",
    "        e_.append(err)\n",
    "        sig_.append(sig)\n",
    "        end = time.time()\n",
    "        time_.append(np.round((end - start)/60,4))"
   ]
  },
  {
   "cell_type": "code",
   "execution_count": 4,
   "id": "93d223d0",
   "metadata": {},
   "outputs": [
    {
     "name": "stdout",
     "output_type": "stream",
     "text": [
      "Enter Hive Number: 265\n",
      "Is it treated? Y or N: N\n"
     ]
    },
    {
     "ename": "NameError",
     "evalue": "name 'main' is not defined",
     "output_type": "error",
     "traceback": [
      "\u001b[1;31m---------------------------------------------------------------------------\u001b[0m",
      "\u001b[1;31mNameError\u001b[0m                                 Traceback (most recent call last)",
      "Cell \u001b[1;32mIn[4], line 13\u001b[0m\n\u001b[0;32m     11\u001b[0m \u001b[38;5;28;01melse\u001b[39;00m:\n\u001b[0;32m     12\u001b[0m     type_ \u001b[38;5;241m=\u001b[39m \u001b[38;5;124m'\u001b[39m\u001b[38;5;124mtreated\u001b[39m\u001b[38;5;124m'\u001b[39m\n\u001b[1;32m---> 13\u001b[0m \u001b[43mmain\u001b[49m(filename, temp_data, ext_data, peri_data)\n",
      "\u001b[1;31mNameError\u001b[0m: name 'main' is not defined"
     ]
    }
   ],
   "source": [
    "if __name__ == \"__main__\":\n",
    "    hive_number = input('Enter Hive Number: ')\n",
    "    hive_type = input('Is it treated? Y or N: ')\n",
    "    filename = 'C_'+hive_number+'.csv'\n",
    "    temp_data = 'Temp_'+ hive_number\n",
    "    ext_data = 'Temp_Box'\n",
    "    peri_data = 'Temp_Easy_'+ hive_number\n",
    "    main(filename, temp_data, ext_data, peri_data, hive_type)"
   ]
  }
 ],
 "metadata": {
  "kernelspec": {
   "display_name": "Python 3 (ipykernel)",
   "language": "python",
   "name": "python3"
  },
  "language_info": {
   "codemirror_mode": {
    "name": "ipython",
    "version": 3
   },
   "file_extension": ".py",
   "mimetype": "text/x-python",
   "name": "python",
   "nbconvert_exporter": "python",
   "pygments_lexer": "ipython3",
   "version": "3.10.9"
  }
 },
 "nbformat": 4,
 "nbformat_minor": 5
}
